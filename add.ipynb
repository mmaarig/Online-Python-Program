{
 "cells": [
  {
   "cell_type": "code",
   "execution_count": 1,
   "id": "7586c72f",
   "metadata": {},
   "outputs": [
    {
     "name": "stdout",
     "output_type": "stream",
     "text": [
      "enter first number: 5\n",
      "enter second number: 8\n",
      "sum is:  13\n"
     ]
    }
   ],
   "source": [
    "a = int(input(\"enter first number: \"));\n",
    "b = int(input(\"enter second number: \"));\n",
    "sum = a + b\n",
    "print(\"sum is: \", sum);"
   ]
  },
  {
   "cell_type": "code",
   "execution_count": null,
   "id": "3f75d4f0",
   "metadata": {},
   "outputs": [],
   "source": []
  }
 ],
 "metadata": {
  "kernelspec": {
   "display_name": "Python 3",
   "language": "python",
   "name": "python3"
  },
  "language_info": {
   "codemirror_mode": {
    "name": "ipython",
    "version": 3
   },
   "file_extension": ".py",
   "mimetype": "text/x-python",
   "name": "python",
   "nbconvert_exporter": "python",
   "pygments_lexer": "ipython3",
   "version": "3.8.8"
  }
 },
 "nbformat": 4,
 "nbformat_minor": 5
}
