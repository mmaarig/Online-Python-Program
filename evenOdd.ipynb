{
 "cells": [
  {
   "cell_type": "code",
   "execution_count": 1,
   "id": "bea2a717",
   "metadata": {},
   "outputs": [
    {
     "name": "stdout",
     "output_type": "stream",
     "text": [
      "Enter your number : 56\n",
      "This is an even number\n"
     ]
    }
   ],
   "source": [
    "num = int(input(\"Enter your number : \"));\n",
    "modu = num % 2\n",
    "if modu > 0:\n",
    "    print(\"This is an odd number\");\n",
    "else:\n",
    "    print(\"This is an even number\");"
   ]
  },
  {
   "cell_type": "code",
   "execution_count": null,
   "id": "cfd855cc",
   "metadata": {},
   "outputs": [],
   "source": []
  }
 ],
 "metadata": {
  "kernelspec": {
   "display_name": "Python 3",
   "language": "python",
   "name": "python3"
  },
  "language_info": {
   "codemirror_mode": {
    "name": "ipython",
    "version": 3
   },
   "file_extension": ".py",
   "mimetype": "text/x-python",
   "name": "python",
   "nbconvert_exporter": "python",
   "pygments_lexer": "ipython3",
   "version": "3.8.8"
  }
 },
 "nbformat": 4,
 "nbformat_minor": 5
}
