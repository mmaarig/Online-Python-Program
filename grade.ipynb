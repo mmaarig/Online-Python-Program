{
 "cells": [
  {
   "cell_type": "code",
   "execution_count": 1,
   "id": "4f7fe2f6",
   "metadata": {},
   "outputs": [],
   "source": [
    "eng = 85\n",
    "maths = 92\n",
    "isl = 76\n",
    "sci = 87\n",
    "comp = 90\n",
    "total = 500\n",
    "obt = eng+maths+isl+sci+comp"
   ]
  },
  {
   "cell_type": "code",
   "execution_count": 2,
   "id": "72a8a88d",
   "metadata": {},
   "outputs": [
    {
     "name": "stdout",
     "output_type": "stream",
     "text": [
      "86.00%\n"
     ]
    }
   ],
   "source": [
    "per = (obt/total)*100\n",
    "print(\"{:.2f}%\".format(per))"
   ]
  },
  {
   "cell_type": "code",
   "execution_count": 3,
   "id": "7114763d",
   "metadata": {},
   "outputs": [
    {
     "name": "stdout",
     "output_type": "stream",
     "text": [
      "Grade A+\n"
     ]
    }
   ],
   "source": [
    "if per < 100 and per > 80:\n",
    "    print('Grade A+');\n",
    "elif per < 80 and per > 70:\n",
    "    print('Grade A');\n",
    "elif per < 70 and per > 60:\n",
    "    print('Grade B');\n",
    "elif per < 60 and per > 50:\n",
    "    print('Grade C');\n",
    "elif per < 50 and per > 40:\n",
    "    print('Grade D');\n",
    "else:\n",
    "    print('Fail')"
   ]
  },
  {
   "cell_type": "code",
   "execution_count": null,
   "id": "35f30468",
   "metadata": {},
   "outputs": [],
   "source": []
  },
  {
   "cell_type": "code",
   "execution_count": null,
   "id": "0799dcf1",
   "metadata": {},
   "outputs": [],
   "source": []
  }
 ],
 "metadata": {
  "kernelspec": {
   "display_name": "Python 3",
   "language": "python",
   "name": "python3"
  },
  "language_info": {
   "codemirror_mode": {
    "name": "ipython",
    "version": 3
   },
   "file_extension": ".py",
   "mimetype": "text/x-python",
   "name": "python",
   "nbconvert_exporter": "python",
   "pygments_lexer": "ipython3",
   "version": "3.8.8"
  }
 },
 "nbformat": 4,
 "nbformat_minor": 5
}
