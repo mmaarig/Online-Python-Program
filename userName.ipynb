{
 "cells": [
  {
   "cell_type": "code",
   "execution_count": 1,
   "id": "d2a77b98",
   "metadata": {},
   "outputs": [
    {
     "name": "stdout",
     "output_type": "stream",
     "text": [
      "Input your First Name : Muhammad\n",
      "Input your Last Name : Maarig\n",
      "Hello  Maarig Muhammad\n"
     ]
    }
   ],
   "source": [
    "fname = input(\"Input your First Name : \");\n",
    "lname = input(\"Input your Last Name : \");\n",
    "print (\"Hello  \" + lname + \" \" + fname);"
   ]
  },
  {
   "cell_type": "code",
   "execution_count": null,
   "id": "0a51e782",
   "metadata": {},
   "outputs": [],
   "source": []
  }
 ],
 "metadata": {
  "kernelspec": {
   "display_name": "Python 3",
   "language": "python",
   "name": "python3"
  },
  "language_info": {
   "codemirror_mode": {
    "name": "ipython",
    "version": 3
   },
   "file_extension": ".py",
   "mimetype": "text/x-python",
   "name": "python",
   "nbconvert_exporter": "python",
   "pygments_lexer": "ipython3",
   "version": "3.8.8"
  }
 },
 "nbformat": 4,
 "nbformat_minor": 5
}
